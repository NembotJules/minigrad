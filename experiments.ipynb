{
 "cells": [
  {
   "cell_type": "markdown",
   "metadata": {},
   "source": [
    "# Trying out Minigrad"
   ]
  },
  {
   "cell_type": "code",
   "execution_count": 2,
   "metadata": {},
   "outputs": [],
   "source": [
    "from minigrad.engine import Value\n",
    "from minigrad.nn import NeuralNetwork"
   ]
  },
  {
   "cell_type": "code",
   "execution_count": 34,
   "metadata": {},
   "outputs": [
    {
     "name": "stdout",
     "output_type": "stream",
     "text": [
      "Prediction: -0.7529\n",
      "Loss: 3.0726\n"
     ]
    },
    {
     "name": "stderr",
     "output_type": "stream",
     "text": [
      "\n",
      "(eog:32647): EOG-CRITICAL **: 04:09:23.369: eog_image_get_file: assertion 'EOG_IS_IMAGE (img)' failed\n",
      "\n",
      "(eog:32647): GLib-GIO-CRITICAL **: 04:09:23.369: g_file_equal: assertion 'G_IS_FILE (file1)' failed\n",
      "\n",
      "(eog:32647): EOG-CRITICAL **: 04:09:23.369: eog_image_get_file: assertion 'EOG_IS_IMAGE (img)' failed\n",
      "\n",
      "(eog:32647): GLib-GIO-CRITICAL **: 04:09:23.369: g_file_equal: assertion 'G_IS_FILE (file1)' failed\n",
      "\n",
      "(eog:32647): EOG-CRITICAL **: 04:09:23.369: eog_image_get_file: assertion 'EOG_IS_IMAGE (img)' failed\n",
      "\n",
      "(eog:32647): GLib-GIO-CRITICAL **: 04:09:23.369: g_file_equal: assertion 'G_IS_FILE (file1)' failed\n",
      "\n",
      "(eog:32647): EOG-WARNING **: 04:09:23.621: Couldn't load icon: Icon 'image-loading' not present in theme Cupertino-Sonoma\n"
     ]
    }
   ],
   "source": [
    "#Create a minimal neural network: 2 inputs -> 1 output\n",
    "nn = NeuralNetwork(2, [2, 1], activation=lambda x: x.tanh())\n",
    "\n",
    "    # Single training example\n",
    "X = [[2.0, 0.0]]  # Just one input\n",
    "y = [1.0]        # Target output\n",
    "\n",
    "    # Set optimizer\n",
    "nn.set_optimizer('sgd', lr=0.1)\n",
    "\n",
    "    # Single forward and backward pass\n",
    "x = [Value(x) for x in X[0]]\n",
    "    \n",
    "    # Forward pass\n",
    "pred = nn.forward(x)\n",
    "loss = (pred - Value(y[0]))**2\n",
    "nn.last_output = loss\n",
    "    \n",
    "    # Backward pass\n",
    "nn.zero_grad()\n",
    "loss.backward()\n",
    "    \n",
    "    # Visualize before optimization step\n",
    "print(f'Prediction: {pred.data:.4f}')\n",
    "print(f'Loss: {loss.data:.4f}')\n",
    "nn_image = nn.draw_nn(loss)\n"
   ]
  },
  {
   "cell_type": "code",
   "execution_count": 35,
   "metadata": {},
   "outputs": [
    {
     "name": "stdout",
     "output_type": "stream",
     "text": [
      "<minigrad.nn.NeuralNetwork object at 0x75e73f534210>\n"
     ]
    }
   ],
   "source": [
    "print(nn)\n",
    "\n"
   ]
  },
  {
   "cell_type": "code",
   "execution_count": 32,
   "metadata": {},
   "outputs": [],
   "source": [
    "nn.step()"
   ]
  },
  {
   "cell_type": "code",
   "execution_count": null,
   "metadata": {},
   "outputs": [],
   "source": []
  },
  {
   "cell_type": "code",
   "execution_count": null,
   "metadata": {},
   "outputs": [],
   "source": []
  }
 ],
 "metadata": {
  "kernelspec": {
   "display_name": "base",
   "language": "python",
   "name": "python3"
  },
  "language_info": {
   "codemirror_mode": {
    "name": "ipython",
    "version": 3
   },
   "file_extension": ".py",
   "mimetype": "text/x-python",
   "name": "python",
   "nbconvert_exporter": "python",
   "pygments_lexer": "ipython3",
   "version": "3.11.7"
  }
 },
 "nbformat": 4,
 "nbformat_minor": 2
}
