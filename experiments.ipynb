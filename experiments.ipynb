{
 "cells": [
  {
   "cell_type": "markdown",
   "metadata": {},
   "source": [
    "# Trying out Minigrad"
   ]
  },
  {
   "cell_type": "code",
   "execution_count": 2,
   "metadata": {},
   "outputs": [],
   "source": [
    "from minigrad.engine import Value\n",
    "from minigrad.nn import NeuralNetwork"
   ]
  },
  {
   "cell_type": "code",
   "execution_count": 6,
   "metadata": {},
   "outputs": [
    {
     "name": "stdout",
     "output_type": "stream",
     "text": [
      "Prediction: 0.2601\n",
      "Loss: 0.5474\n"
     ]
    }
   ],
   "source": [
    "#Create a minimal neural network: 2 inputs -> 1 output\n",
    "nn = NeuralNetwork(2, [2, 1], activation=lambda x: x.tanh())\n",
    "\n",
    "    # Single training example\n",
    "X = [[2.0, 0.0]]  # Just one input\n",
    "y = [1.0]        # Target output\n",
    "\n",
    "    # Set optimizer\n",
    "nn.set_optimizer('sgd', lr=0.1)\n",
    "\n",
    "    # Single forward and backward pass\n",
    "x = [Value(x) for x in X[0]]\n",
    "    \n",
    "    # Forward pass\n",
    "pred = nn.forward(x)\n",
    "loss = (pred - Value(y[0]))**2\n",
    "nn.last_output = loss\n",
    "    \n",
    "    # Backward pass\n",
    "nn.zero_grad()\n",
    "loss.backward()\n",
    "    \n",
    "    # Visualize before optimization step\n",
    "print(f'Prediction: {pred.data:.4f}')\n",
    "print(f'Loss: {loss.data:.4f}')\n",
    "nn_image = nn.draw_nn(loss)\n"
   ]
  },
  {
   "cell_type": "code",
   "execution_count": null,
   "metadata": {},
   "outputs": [],
   "source": []
  }
 ],
 "metadata": {
  "kernelspec": {
   "display_name": "base",
   "language": "python",
   "name": "python3"
  },
  "language_info": {
   "codemirror_mode": {
    "name": "ipython",
    "version": 3
   },
   "file_extension": ".py",
   "mimetype": "text/x-python",
   "name": "python",
   "nbconvert_exporter": "python",
   "pygments_lexer": "ipython3",
   "version": "3.11.7"
  }
 },
 "nbformat": 4,
 "nbformat_minor": 2
}
